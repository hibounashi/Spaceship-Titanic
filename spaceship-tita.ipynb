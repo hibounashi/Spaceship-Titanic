{
 "cells": [
  {
   "cell_type": "code",
   "execution_count": 4,
   "metadata": {},
   "outputs": [],
   "source": [
    "# **SpaceShip Titanic**"
   ]
  },
  {
   "cell_type": "code",
   "execution_count": 2,
   "metadata": {
    "execution": {
     "iopub.execute_input": "2024-03-05T16:37:16.762205Z",
     "iopub.status.busy": "2024-03-05T16:37:16.761770Z",
     "iopub.status.idle": "2024-03-05T16:37:16.767594Z",
     "shell.execute_reply": "2024-03-05T16:37:16.766346Z",
     "shell.execute_reply.started": "2024-03-05T16:37:16.762160Z"
    }
   },
   "outputs": [],
   "source": [
    "import warnings\n",
    "warnings.filterwarnings(\"ignore\")"
   ]
  },
  {
   "cell_type": "markdown",
   "metadata": {},
   "source": [
    "# collect data"
   ]
  },
  {
   "cell_type": "code",
   "execution_count": 91,
   "metadata": {
    "execution": {
     "iopub.execute_input": "2024-03-05T16:37:18.990971Z",
     "iopub.status.busy": "2024-03-05T16:37:18.990597Z",
     "iopub.status.idle": "2024-03-05T16:37:19.086473Z",
     "shell.execute_reply": "2024-03-05T16:37:19.085579Z",
     "shell.execute_reply.started": "2024-03-05T16:37:18.990943Z"
    }
   },
   "outputs": [
    {
     "data": {
      "text/html": [
       "<div>\n",
       "<style scoped>\n",
       "    .dataframe tbody tr th:only-of-type {\n",
       "        vertical-align: middle;\n",
       "    }\n",
       "\n",
       "    .dataframe tbody tr th {\n",
       "        vertical-align: top;\n",
       "    }\n",
       "\n",
       "    .dataframe thead th {\n",
       "        text-align: right;\n",
       "    }\n",
       "</style>\n",
       "<table border=\"1\" class=\"dataframe\">\n",
       "  <thead>\n",
       "    <tr style=\"text-align: right;\">\n",
       "      <th></th>\n",
       "      <th>PassengerId</th>\n",
       "      <th>HomePlanet</th>\n",
       "      <th>CryoSleep</th>\n",
       "      <th>Cabin</th>\n",
       "      <th>Destination</th>\n",
       "      <th>Age</th>\n",
       "      <th>VIP</th>\n",
       "      <th>RoomService</th>\n",
       "      <th>FoodCourt</th>\n",
       "      <th>ShoppingMall</th>\n",
       "      <th>Spa</th>\n",
       "      <th>VRDeck</th>\n",
       "      <th>Name</th>\n",
       "      <th>Transported</th>\n",
       "    </tr>\n",
       "  </thead>\n",
       "  <tbody>\n",
       "    <tr>\n",
       "      <th>0</th>\n",
       "      <td>0001_01</td>\n",
       "      <td>Europa</td>\n",
       "      <td>False</td>\n",
       "      <td>B/0/P</td>\n",
       "      <td>TRAPPIST-1e</td>\n",
       "      <td>39.0</td>\n",
       "      <td>False</td>\n",
       "      <td>0.0</td>\n",
       "      <td>0.0</td>\n",
       "      <td>0.0</td>\n",
       "      <td>0.0</td>\n",
       "      <td>0.0</td>\n",
       "      <td>Maham Ofracculy</td>\n",
       "      <td>False</td>\n",
       "    </tr>\n",
       "    <tr>\n",
       "      <th>1</th>\n",
       "      <td>0002_01</td>\n",
       "      <td>Earth</td>\n",
       "      <td>False</td>\n",
       "      <td>F/0/S</td>\n",
       "      <td>TRAPPIST-1e</td>\n",
       "      <td>24.0</td>\n",
       "      <td>False</td>\n",
       "      <td>109.0</td>\n",
       "      <td>9.0</td>\n",
       "      <td>25.0</td>\n",
       "      <td>549.0</td>\n",
       "      <td>44.0</td>\n",
       "      <td>Juanna Vines</td>\n",
       "      <td>True</td>\n",
       "    </tr>\n",
       "    <tr>\n",
       "      <th>2</th>\n",
       "      <td>0003_01</td>\n",
       "      <td>Europa</td>\n",
       "      <td>False</td>\n",
       "      <td>A/0/S</td>\n",
       "      <td>TRAPPIST-1e</td>\n",
       "      <td>58.0</td>\n",
       "      <td>True</td>\n",
       "      <td>43.0</td>\n",
       "      <td>3576.0</td>\n",
       "      <td>0.0</td>\n",
       "      <td>6715.0</td>\n",
       "      <td>49.0</td>\n",
       "      <td>Altark Susent</td>\n",
       "      <td>False</td>\n",
       "    </tr>\n",
       "    <tr>\n",
       "      <th>3</th>\n",
       "      <td>0003_02</td>\n",
       "      <td>Europa</td>\n",
       "      <td>False</td>\n",
       "      <td>A/0/S</td>\n",
       "      <td>TRAPPIST-1e</td>\n",
       "      <td>33.0</td>\n",
       "      <td>False</td>\n",
       "      <td>0.0</td>\n",
       "      <td>1283.0</td>\n",
       "      <td>371.0</td>\n",
       "      <td>3329.0</td>\n",
       "      <td>193.0</td>\n",
       "      <td>Solam Susent</td>\n",
       "      <td>False</td>\n",
       "    </tr>\n",
       "    <tr>\n",
       "      <th>4</th>\n",
       "      <td>0004_01</td>\n",
       "      <td>Earth</td>\n",
       "      <td>False</td>\n",
       "      <td>F/1/S</td>\n",
       "      <td>TRAPPIST-1e</td>\n",
       "      <td>16.0</td>\n",
       "      <td>False</td>\n",
       "      <td>303.0</td>\n",
       "      <td>70.0</td>\n",
       "      <td>151.0</td>\n",
       "      <td>565.0</td>\n",
       "      <td>2.0</td>\n",
       "      <td>Willy Santantines</td>\n",
       "      <td>True</td>\n",
       "    </tr>\n",
       "  </tbody>\n",
       "</table>\n",
       "</div>"
      ],
      "text/plain": [
       "  PassengerId HomePlanet CryoSleep  Cabin  Destination   Age    VIP  \\\n",
       "0     0001_01     Europa     False  B/0/P  TRAPPIST-1e  39.0  False   \n",
       "1     0002_01      Earth     False  F/0/S  TRAPPIST-1e  24.0  False   \n",
       "2     0003_01     Europa     False  A/0/S  TRAPPIST-1e  58.0   True   \n",
       "3     0003_02     Europa     False  A/0/S  TRAPPIST-1e  33.0  False   \n",
       "4     0004_01      Earth     False  F/1/S  TRAPPIST-1e  16.0  False   \n",
       "\n",
       "   RoomService  FoodCourt  ShoppingMall     Spa  VRDeck               Name  \\\n",
       "0          0.0        0.0           0.0     0.0     0.0    Maham Ofracculy   \n",
       "1        109.0        9.0          25.0   549.0    44.0       Juanna Vines   \n",
       "2         43.0     3576.0           0.0  6715.0    49.0      Altark Susent   \n",
       "3          0.0     1283.0         371.0  3329.0   193.0       Solam Susent   \n",
       "4        303.0       70.0         151.0   565.0     2.0  Willy Santantines   \n",
       "\n",
       "   Transported  \n",
       "0        False  \n",
       "1         True  \n",
       "2        False  \n",
       "3        False  \n",
       "4         True  "
      ]
     },
     "execution_count": 91,
     "metadata": {},
     "output_type": "execute_result"
    }
   ],
   "source": [
    "import numpy as np # linear algebra\n",
    "import pandas as pd # data processing\n",
    "\n",
    "train_df = pd.read_csv(\"dataset/train.csv\")\n",
    "test_df = pd.read_csv(\"dataset/test.csv\")\n",
    "submission_df = pd.read_csv(\"dataset/sample_submission.csv\")\n",
    "train_df.head()"
   ]
  },
  {
   "cell_type": "code",
   "execution_count": 66,
   "metadata": {
    "execution": {
     "iopub.execute_input": "2024-03-05T16:37:21.223327Z",
     "iopub.status.busy": "2024-03-05T16:37:21.222450Z",
     "iopub.status.idle": "2024-03-05T16:37:21.244991Z",
     "shell.execute_reply": "2024-03-05T16:37:21.243811Z",
     "shell.execute_reply.started": "2024-03-05T16:37:21.223294Z"
    }
   },
   "outputs": [
    {
     "data": {
      "text/plain": [
       "(4277, 13)"
      ]
     },
     "execution_count": 66,
     "metadata": {},
     "output_type": "execute_result"
    }
   ],
   "source": [
    "test_df.shape"
   ]
  },
  {
   "cell_type": "code",
   "execution_count": 67,
   "metadata": {
    "execution": {
     "iopub.execute_input": "2024-03-05T16:37:23.206260Z",
     "iopub.status.busy": "2024-03-05T16:37:23.205489Z",
     "iopub.status.idle": "2024-03-05T16:37:23.216365Z",
     "shell.execute_reply": "2024-03-05T16:37:23.215222Z",
     "shell.execute_reply.started": "2024-03-05T16:37:23.206206Z"
    }
   },
   "outputs": [
    {
     "data": {
      "text/html": [
       "<div>\n",
       "<style scoped>\n",
       "    .dataframe tbody tr th:only-of-type {\n",
       "        vertical-align: middle;\n",
       "    }\n",
       "\n",
       "    .dataframe tbody tr th {\n",
       "        vertical-align: top;\n",
       "    }\n",
       "\n",
       "    .dataframe thead th {\n",
       "        text-align: right;\n",
       "    }\n",
       "</style>\n",
       "<table border=\"1\" class=\"dataframe\">\n",
       "  <thead>\n",
       "    <tr style=\"text-align: right;\">\n",
       "      <th></th>\n",
       "      <th>PassengerId</th>\n",
       "      <th>Transported</th>\n",
       "    </tr>\n",
       "  </thead>\n",
       "  <tbody>\n",
       "    <tr>\n",
       "      <th>0</th>\n",
       "      <td>0013_01</td>\n",
       "      <td>False</td>\n",
       "    </tr>\n",
       "    <tr>\n",
       "      <th>1</th>\n",
       "      <td>0018_01</td>\n",
       "      <td>False</td>\n",
       "    </tr>\n",
       "    <tr>\n",
       "      <th>2</th>\n",
       "      <td>0019_01</td>\n",
       "      <td>False</td>\n",
       "    </tr>\n",
       "    <tr>\n",
       "      <th>3</th>\n",
       "      <td>0021_01</td>\n",
       "      <td>False</td>\n",
       "    </tr>\n",
       "    <tr>\n",
       "      <th>4</th>\n",
       "      <td>0023_01</td>\n",
       "      <td>False</td>\n",
       "    </tr>\n",
       "  </tbody>\n",
       "</table>\n",
       "</div>"
      ],
      "text/plain": [
       "  PassengerId  Transported\n",
       "0     0013_01        False\n",
       "1     0018_01        False\n",
       "2     0019_01        False\n",
       "3     0021_01        False\n",
       "4     0023_01        False"
      ]
     },
     "execution_count": 67,
     "metadata": {},
     "output_type": "execute_result"
    }
   ],
   "source": [
    "submission_df.head()"
   ]
  },
  {
   "cell_type": "markdown",
   "metadata": {},
   "source": [
    "# analyse & Understanding & Exploration DATA"
   ]
  },
  {
   "cell_type": "code",
   "execution_count": 68,
   "metadata": {
    "execution": {
     "iopub.execute_input": "2024-03-05T16:37:26.888508Z",
     "iopub.status.busy": "2024-03-05T16:37:26.886854Z",
     "iopub.status.idle": "2024-03-05T16:37:26.898784Z",
     "shell.execute_reply": "2024-03-05T16:37:26.897374Z",
     "shell.execute_reply.started": "2024-03-05T16:37:26.888459Z"
    }
   },
   "outputs": [
    {
     "data": {
      "text/plain": [
       "(8693, 14)"
      ]
     },
     "execution_count": 68,
     "metadata": {},
     "output_type": "execute_result"
    }
   ],
   "source": [
    "train_df.shape"
   ]
  },
  {
   "cell_type": "code",
   "execution_count": 69,
   "metadata": {
    "execution": {
     "iopub.execute_input": "2024-03-05T16:36:21.878828Z",
     "iopub.status.busy": "2024-03-05T16:36:21.878452Z",
     "iopub.status.idle": "2024-03-05T16:36:21.888078Z",
     "shell.execute_reply": "2024-03-05T16:36:21.886806Z",
     "shell.execute_reply.started": "2024-03-05T16:36:21.878800Z"
    }
   },
   "outputs": [
    {
     "data": {
      "text/plain": [
       "PassengerId      object\n",
       "HomePlanet       object\n",
       "CryoSleep        object\n",
       "Cabin            object\n",
       "Destination      object\n",
       "Age             float64\n",
       "VIP              object\n",
       "RoomService     float64\n",
       "FoodCourt       float64\n",
       "ShoppingMall    float64\n",
       "Spa             float64\n",
       "VRDeck          float64\n",
       "Name             object\n",
       "Transported        bool\n",
       "dtype: object"
      ]
     },
     "execution_count": 69,
     "metadata": {},
     "output_type": "execute_result"
    }
   ],
   "source": [
    "train_df.dtypes"
   ]
  },
  {
   "cell_type": "code",
   "execution_count": 70,
   "metadata": {
    "execution": {
     "iopub.execute_input": "2024-03-05T16:36:25.594932Z",
     "iopub.status.busy": "2024-03-05T16:36:25.594551Z",
     "iopub.status.idle": "2024-03-05T16:36:25.601928Z",
     "shell.execute_reply": "2024-03-05T16:36:25.600761Z",
     "shell.execute_reply.started": "2024-03-05T16:36:25.594904Z"
    }
   },
   "outputs": [
    {
     "data": {
      "text/plain": [
       "Index(['PassengerId', 'HomePlanet', 'CryoSleep', 'Cabin', 'Destination', 'Age',\n",
       "       'VIP', 'RoomService', 'FoodCourt', 'ShoppingMall', 'Spa', 'VRDeck',\n",
       "       'Name', 'Transported'],\n",
       "      dtype='object')"
      ]
     },
     "execution_count": 70,
     "metadata": {},
     "output_type": "execute_result"
    }
   ],
   "source": [
    "train_df.columns"
   ]
  },
  {
   "cell_type": "code",
   "execution_count": 71,
   "metadata": {
    "execution": {
     "iopub.execute_input": "2024-03-05T16:36:27.993791Z",
     "iopub.status.busy": "2024-03-05T16:36:27.993377Z",
     "iopub.status.idle": "2024-03-05T16:36:28.002519Z",
     "shell.execute_reply": "2024-03-05T16:36:28.001292Z",
     "shell.execute_reply.started": "2024-03-05T16:36:27.993759Z"
    }
   },
   "outputs": [
    {
     "data": {
      "text/plain": [
       "PassengerId      object\n",
       "HomePlanet       object\n",
       "CryoSleep        object\n",
       "Cabin            object\n",
       "Destination      object\n",
       "Age             float64\n",
       "VIP              object\n",
       "RoomService     float64\n",
       "FoodCourt       float64\n",
       "ShoppingMall    float64\n",
       "Spa             float64\n",
       "VRDeck          float64\n",
       "Name             object\n",
       "Transported        bool\n",
       "dtype: object"
      ]
     },
     "execution_count": 71,
     "metadata": {},
     "output_type": "execute_result"
    }
   ],
   "source": [
    "train_df.dtypes"
   ]
  },
  {
   "cell_type": "code",
   "execution_count": 72,
   "metadata": {
    "execution": {
     "iopub.execute_input": "2024-03-05T16:37:32.703736Z",
     "iopub.status.busy": "2024-03-05T16:37:32.702503Z",
     "iopub.status.idle": "2024-03-05T16:37:32.721269Z",
     "shell.execute_reply": "2024-03-05T16:37:32.719930Z",
     "shell.execute_reply.started": "2024-03-05T16:37:32.703679Z"
    }
   },
   "outputs": [
    {
     "data": {
      "text/plain": [
       "PassengerId       0\n",
       "HomePlanet      201\n",
       "CryoSleep       217\n",
       "Cabin           199\n",
       "Destination     182\n",
       "Age             179\n",
       "VIP             203\n",
       "RoomService     181\n",
       "FoodCourt       183\n",
       "ShoppingMall    208\n",
       "Spa             183\n",
       "VRDeck          188\n",
       "Name            200\n",
       "Transported       0\n",
       "dtype: int64"
      ]
     },
     "execution_count": 72,
     "metadata": {},
     "output_type": "execute_result"
    }
   ],
   "source": [
    "train_df.isnull().sum()"
   ]
  },
  {
   "cell_type": "code",
   "execution_count": 73,
   "metadata": {
    "execution": {
     "iopub.execute_input": "2024-03-05T16:37:34.755466Z",
     "iopub.status.busy": "2024-03-05T16:37:34.755020Z",
     "iopub.status.idle": "2024-03-05T16:37:34.790870Z",
     "shell.execute_reply": "2024-03-05T16:37:34.789570Z",
     "shell.execute_reply.started": "2024-03-05T16:37:34.755432Z"
    }
   },
   "outputs": [
    {
     "data": {
      "text/html": [
       "<div>\n",
       "<style scoped>\n",
       "    .dataframe tbody tr th:only-of-type {\n",
       "        vertical-align: middle;\n",
       "    }\n",
       "\n",
       "    .dataframe tbody tr th {\n",
       "        vertical-align: top;\n",
       "    }\n",
       "\n",
       "    .dataframe thead th {\n",
       "        text-align: right;\n",
       "    }\n",
       "</style>\n",
       "<table border=\"1\" class=\"dataframe\">\n",
       "  <thead>\n",
       "    <tr style=\"text-align: right;\">\n",
       "      <th></th>\n",
       "      <th>Age</th>\n",
       "      <th>RoomService</th>\n",
       "      <th>FoodCourt</th>\n",
       "      <th>ShoppingMall</th>\n",
       "      <th>Spa</th>\n",
       "      <th>VRDeck</th>\n",
       "    </tr>\n",
       "  </thead>\n",
       "  <tbody>\n",
       "    <tr>\n",
       "      <th>count</th>\n",
       "      <td>8514.000000</td>\n",
       "      <td>8512.000000</td>\n",
       "      <td>8510.000000</td>\n",
       "      <td>8485.000000</td>\n",
       "      <td>8510.000000</td>\n",
       "      <td>8505.000000</td>\n",
       "    </tr>\n",
       "    <tr>\n",
       "      <th>mean</th>\n",
       "      <td>28.827930</td>\n",
       "      <td>224.687617</td>\n",
       "      <td>458.077203</td>\n",
       "      <td>173.729169</td>\n",
       "      <td>311.138778</td>\n",
       "      <td>304.854791</td>\n",
       "    </tr>\n",
       "    <tr>\n",
       "      <th>std</th>\n",
       "      <td>14.489021</td>\n",
       "      <td>666.717663</td>\n",
       "      <td>1611.489240</td>\n",
       "      <td>604.696458</td>\n",
       "      <td>1136.705535</td>\n",
       "      <td>1145.717189</td>\n",
       "    </tr>\n",
       "    <tr>\n",
       "      <th>min</th>\n",
       "      <td>0.000000</td>\n",
       "      <td>0.000000</td>\n",
       "      <td>0.000000</td>\n",
       "      <td>0.000000</td>\n",
       "      <td>0.000000</td>\n",
       "      <td>0.000000</td>\n",
       "    </tr>\n",
       "    <tr>\n",
       "      <th>25%</th>\n",
       "      <td>19.000000</td>\n",
       "      <td>0.000000</td>\n",
       "      <td>0.000000</td>\n",
       "      <td>0.000000</td>\n",
       "      <td>0.000000</td>\n",
       "      <td>0.000000</td>\n",
       "    </tr>\n",
       "    <tr>\n",
       "      <th>50%</th>\n",
       "      <td>27.000000</td>\n",
       "      <td>0.000000</td>\n",
       "      <td>0.000000</td>\n",
       "      <td>0.000000</td>\n",
       "      <td>0.000000</td>\n",
       "      <td>0.000000</td>\n",
       "    </tr>\n",
       "    <tr>\n",
       "      <th>75%</th>\n",
       "      <td>38.000000</td>\n",
       "      <td>47.000000</td>\n",
       "      <td>76.000000</td>\n",
       "      <td>27.000000</td>\n",
       "      <td>59.000000</td>\n",
       "      <td>46.000000</td>\n",
       "    </tr>\n",
       "    <tr>\n",
       "      <th>max</th>\n",
       "      <td>79.000000</td>\n",
       "      <td>14327.000000</td>\n",
       "      <td>29813.000000</td>\n",
       "      <td>23492.000000</td>\n",
       "      <td>22408.000000</td>\n",
       "      <td>24133.000000</td>\n",
       "    </tr>\n",
       "  </tbody>\n",
       "</table>\n",
       "</div>"
      ],
      "text/plain": [
       "               Age   RoomService     FoodCourt  ShoppingMall           Spa  \\\n",
       "count  8514.000000   8512.000000   8510.000000   8485.000000   8510.000000   \n",
       "mean     28.827930    224.687617    458.077203    173.729169    311.138778   \n",
       "std      14.489021    666.717663   1611.489240    604.696458   1136.705535   \n",
       "min       0.000000      0.000000      0.000000      0.000000      0.000000   \n",
       "25%      19.000000      0.000000      0.000000      0.000000      0.000000   \n",
       "50%      27.000000      0.000000      0.000000      0.000000      0.000000   \n",
       "75%      38.000000     47.000000     76.000000     27.000000     59.000000   \n",
       "max      79.000000  14327.000000  29813.000000  23492.000000  22408.000000   \n",
       "\n",
       "             VRDeck  \n",
       "count   8505.000000  \n",
       "mean     304.854791  \n",
       "std     1145.717189  \n",
       "min        0.000000  \n",
       "25%        0.000000  \n",
       "50%        0.000000  \n",
       "75%       46.000000  \n",
       "max    24133.000000  "
      ]
     },
     "execution_count": 73,
     "metadata": {},
     "output_type": "execute_result"
    }
   ],
   "source": [
    "train_df.describe()"
   ]
  },
  {
   "cell_type": "markdown",
   "metadata": {},
   "source": [
    "# Data Preprocessing "
   ]
  },
  {
   "cell_type": "markdown",
   "metadata": {},
   "source": [
    "handling miising values by the mean of each column "
   ]
  },
  {
   "cell_type": "code",
   "execution_count": 92,
   "metadata": {
    "execution": {
     "iopub.execute_input": "2024-03-05T16:37:39.471979Z",
     "iopub.status.busy": "2024-03-05T16:37:39.471043Z",
     "iopub.status.idle": "2024-03-05T16:37:39.514806Z",
     "shell.execute_reply": "2024-03-05T16:37:39.513778Z",
     "shell.execute_reply.started": "2024-03-05T16:37:39.471947Z"
    }
   },
   "outputs": [],
   "source": [
    "train_df['Age'].fillna(train_df['Age'].mode()[0], inplace=True)\n",
    "train_df['HomePlanet'].fillna(train_df['HomePlanet'].mode()[0], inplace=True)\n",
    "train_df['CryoSleep'].fillna(train_df['CryoSleep'].mode()[0], inplace=True)\n",
    "train_df['Cabin'].fillna(train_df['Cabin'].mode()[0], inplace=True)\n",
    "train_df['Destination'].fillna(train_df['Destination'].mode()[0], inplace=True)\n",
    "train_df['VIP'].fillna(train_df['VIP'].mode()[0], inplace=True)\n",
    "train_df['RoomService'].fillna(train_df['RoomService'].mode()[0], inplace=True)\n",
    "train_df['FoodCourt'].fillna(train_df['FoodCourt'].mode()[0], inplace=True)\n",
    "train_df['ShoppingMall'].fillna(train_df['ShoppingMall'].mode()[0], inplace=True)\n",
    "train_df['Spa'].fillna(train_df['Spa'].mode()[0], inplace=True)\n",
    "train_df['VRDeck'].fillna(train_df['VRDeck'].mode()[0], inplace=True)\n",
    "train_df['Name'].fillna(train_df['Name'].mode()[0], inplace=True)\n",
    "\n",
    "test_df['Age'].fillna(test_df['Age'].mode()[0], inplace=True)\n",
    "test_df['HomePlanet'].fillna(test_df['HomePlanet'].mode()[0], inplace=True)\n",
    "test_df['CryoSleep'].fillna(test_df['CryoSleep'].mode()[0], inplace=True)\n",
    "test_df['Cabin'].fillna(test_df['Cabin'].mode()[0], inplace=True)\n",
    "test_df['Destination'].fillna(test_df['Destination'].mode()[0], inplace=True)\n",
    "test_df['VIP'].fillna(test_df['VIP'].mode()[0], inplace=True)\n",
    "test_df['RoomService'].fillna(test_df['RoomService'].mode()[0], inplace=True)\n",
    "test_df['FoodCourt'].fillna(test_df['FoodCourt'].mode()[0], inplace=True)\n",
    "test_df['ShoppingMall'].fillna(test_df['ShoppingMall'].mode()[0], inplace=True)\n",
    "test_df['Spa'].fillna(test_df['Spa'].mode()[0], inplace=True)\n",
    "test_df['VRDeck'].fillna(test_df['VRDeck'].mode()[0], inplace=True)\n",
    "test_df['Name'].fillna(test_df['Name'].mode()[0], inplace=True)"
   ]
  },
  {
   "cell_type": "code",
   "execution_count": 93,
   "metadata": {
    "execution": {
     "iopub.execute_input": "2024-03-05T16:37:42.682567Z",
     "iopub.status.busy": "2024-03-05T16:37:42.682173Z",
     "iopub.status.idle": "2024-03-05T16:37:42.698290Z",
     "shell.execute_reply": "2024-03-05T16:37:42.697133Z",
     "shell.execute_reply.started": "2024-03-05T16:37:42.682539Z"
    }
   },
   "outputs": [
    {
     "data": {
      "text/plain": [
       "(PassengerId     0\n",
       " HomePlanet      0\n",
       " CryoSleep       0\n",
       " Cabin           0\n",
       " Destination     0\n",
       " Age             0\n",
       " VIP             0\n",
       " RoomService     0\n",
       " FoodCourt       0\n",
       " ShoppingMall    0\n",
       " Spa             0\n",
       " VRDeck          0\n",
       " Name            0\n",
       " Transported     0\n",
       " dtype: int64,\n",
       " PassengerId     0\n",
       " HomePlanet      0\n",
       " CryoSleep       0\n",
       " Cabin           0\n",
       " Destination     0\n",
       " Age             0\n",
       " VIP             0\n",
       " RoomService     0\n",
       " FoodCourt       0\n",
       " ShoppingMall    0\n",
       " Spa             0\n",
       " VRDeck          0\n",
       " Name            0\n",
       " dtype: int64)"
      ]
     },
     "execution_count": 93,
     "metadata": {},
     "output_type": "execute_result"
    }
   ],
   "source": [
    "train_df.isnull().sum(), test_df.isnull().sum()"
   ]
  },
  {
   "cell_type": "markdown",
   "metadata": {},
   "source": [
    "**convert data into numeric values**"
   ]
  },
  {
   "cell_type": "code",
   "execution_count": 94,
   "metadata": {
    "execution": {
     "iopub.execute_input": "2024-03-05T16:37:45.891985Z",
     "iopub.status.busy": "2024-03-05T16:37:45.891590Z",
     "iopub.status.idle": "2024-03-05T16:37:46.092101Z",
     "shell.execute_reply": "2024-03-05T16:37:46.091057Z",
     "shell.execute_reply.started": "2024-03-05T16:37:45.891959Z"
    }
   },
   "outputs": [
    {
     "data": {
      "text/html": [
       "<div>\n",
       "<style scoped>\n",
       "    .dataframe tbody tr th:only-of-type {\n",
       "        vertical-align: middle;\n",
       "    }\n",
       "\n",
       "    .dataframe tbody tr th {\n",
       "        vertical-align: top;\n",
       "    }\n",
       "\n",
       "    .dataframe thead th {\n",
       "        text-align: right;\n",
       "    }\n",
       "</style>\n",
       "<table border=\"1\" class=\"dataframe\">\n",
       "  <thead>\n",
       "    <tr style=\"text-align: right;\">\n",
       "      <th></th>\n",
       "      <th>PassengerId</th>\n",
       "      <th>CryoSleep</th>\n",
       "      <th>Age</th>\n",
       "      <th>VIP</th>\n",
       "      <th>RoomService</th>\n",
       "      <th>FoodCourt</th>\n",
       "      <th>ShoppingMall</th>\n",
       "      <th>Spa</th>\n",
       "      <th>VRDeck</th>\n",
       "      <th>Name</th>\n",
       "      <th>...</th>\n",
       "      <th>Cabin_G/999/P</th>\n",
       "      <th>Cabin_G/999/S</th>\n",
       "      <th>Cabin_T/0/P</th>\n",
       "      <th>Cabin_T/1/P</th>\n",
       "      <th>Cabin_T/2/P</th>\n",
       "      <th>Cabin_T/2/S</th>\n",
       "      <th>Cabin_T/3/P</th>\n",
       "      <th>Destination_55 Cancri e</th>\n",
       "      <th>Destination_PSO J318.5-22</th>\n",
       "      <th>Destination_TRAPPIST-1e</th>\n",
       "    </tr>\n",
       "  </thead>\n",
       "  <tbody>\n",
       "    <tr>\n",
       "      <th>0</th>\n",
       "      <td>0001_01</td>\n",
       "      <td>False</td>\n",
       "      <td>39.0</td>\n",
       "      <td>False</td>\n",
       "      <td>0.0</td>\n",
       "      <td>0.0</td>\n",
       "      <td>0.0</td>\n",
       "      <td>0.0</td>\n",
       "      <td>0.0</td>\n",
       "      <td>Maham Ofracculy</td>\n",
       "      <td>...</td>\n",
       "      <td>0</td>\n",
       "      <td>0</td>\n",
       "      <td>0</td>\n",
       "      <td>0</td>\n",
       "      <td>0</td>\n",
       "      <td>0</td>\n",
       "      <td>0</td>\n",
       "      <td>0</td>\n",
       "      <td>0</td>\n",
       "      <td>1</td>\n",
       "    </tr>\n",
       "    <tr>\n",
       "      <th>1</th>\n",
       "      <td>0002_01</td>\n",
       "      <td>False</td>\n",
       "      <td>24.0</td>\n",
       "      <td>False</td>\n",
       "      <td>109.0</td>\n",
       "      <td>9.0</td>\n",
       "      <td>25.0</td>\n",
       "      <td>549.0</td>\n",
       "      <td>44.0</td>\n",
       "      <td>Juanna Vines</td>\n",
       "      <td>...</td>\n",
       "      <td>0</td>\n",
       "      <td>0</td>\n",
       "      <td>0</td>\n",
       "      <td>0</td>\n",
       "      <td>0</td>\n",
       "      <td>0</td>\n",
       "      <td>0</td>\n",
       "      <td>0</td>\n",
       "      <td>0</td>\n",
       "      <td>1</td>\n",
       "    </tr>\n",
       "    <tr>\n",
       "      <th>2</th>\n",
       "      <td>0003_01</td>\n",
       "      <td>False</td>\n",
       "      <td>58.0</td>\n",
       "      <td>True</td>\n",
       "      <td>43.0</td>\n",
       "      <td>3576.0</td>\n",
       "      <td>0.0</td>\n",
       "      <td>6715.0</td>\n",
       "      <td>49.0</td>\n",
       "      <td>Altark Susent</td>\n",
       "      <td>...</td>\n",
       "      <td>0</td>\n",
       "      <td>0</td>\n",
       "      <td>0</td>\n",
       "      <td>0</td>\n",
       "      <td>0</td>\n",
       "      <td>0</td>\n",
       "      <td>0</td>\n",
       "      <td>0</td>\n",
       "      <td>0</td>\n",
       "      <td>1</td>\n",
       "    </tr>\n",
       "    <tr>\n",
       "      <th>3</th>\n",
       "      <td>0003_02</td>\n",
       "      <td>False</td>\n",
       "      <td>33.0</td>\n",
       "      <td>False</td>\n",
       "      <td>0.0</td>\n",
       "      <td>1283.0</td>\n",
       "      <td>371.0</td>\n",
       "      <td>3329.0</td>\n",
       "      <td>193.0</td>\n",
       "      <td>Solam Susent</td>\n",
       "      <td>...</td>\n",
       "      <td>0</td>\n",
       "      <td>0</td>\n",
       "      <td>0</td>\n",
       "      <td>0</td>\n",
       "      <td>0</td>\n",
       "      <td>0</td>\n",
       "      <td>0</td>\n",
       "      <td>0</td>\n",
       "      <td>0</td>\n",
       "      <td>1</td>\n",
       "    </tr>\n",
       "    <tr>\n",
       "      <th>4</th>\n",
       "      <td>0004_01</td>\n",
       "      <td>False</td>\n",
       "      <td>16.0</td>\n",
       "      <td>False</td>\n",
       "      <td>303.0</td>\n",
       "      <td>70.0</td>\n",
       "      <td>151.0</td>\n",
       "      <td>565.0</td>\n",
       "      <td>2.0</td>\n",
       "      <td>Willy Santantines</td>\n",
       "      <td>...</td>\n",
       "      <td>0</td>\n",
       "      <td>0</td>\n",
       "      <td>0</td>\n",
       "      <td>0</td>\n",
       "      <td>0</td>\n",
       "      <td>0</td>\n",
       "      <td>0</td>\n",
       "      <td>0</td>\n",
       "      <td>0</td>\n",
       "      <td>1</td>\n",
       "    </tr>\n",
       "  </tbody>\n",
       "</table>\n",
       "<p>5 rows × 6577 columns</p>\n",
       "</div>"
      ],
      "text/plain": [
       "  PassengerId  CryoSleep   Age    VIP  RoomService  FoodCourt  ShoppingMall  \\\n",
       "0     0001_01      False  39.0  False          0.0        0.0           0.0   \n",
       "1     0002_01      False  24.0  False        109.0        9.0          25.0   \n",
       "2     0003_01      False  58.0   True         43.0     3576.0           0.0   \n",
       "3     0003_02      False  33.0  False          0.0     1283.0         371.0   \n",
       "4     0004_01      False  16.0  False        303.0       70.0         151.0   \n",
       "\n",
       "      Spa  VRDeck               Name  ...  Cabin_G/999/P  Cabin_G/999/S  \\\n",
       "0     0.0     0.0    Maham Ofracculy  ...              0              0   \n",
       "1   549.0    44.0       Juanna Vines  ...              0              0   \n",
       "2  6715.0    49.0      Altark Susent  ...              0              0   \n",
       "3  3329.0   193.0       Solam Susent  ...              0              0   \n",
       "4   565.0     2.0  Willy Santantines  ...              0              0   \n",
       "\n",
       "   Cabin_T/0/P  Cabin_T/1/P  Cabin_T/2/P  Cabin_T/2/S  Cabin_T/3/P  \\\n",
       "0            0            0            0            0            0   \n",
       "1            0            0            0            0            0   \n",
       "2            0            0            0            0            0   \n",
       "3            0            0            0            0            0   \n",
       "4            0            0            0            0            0   \n",
       "\n",
       "   Destination_55 Cancri e  Destination_PSO J318.5-22  Destination_TRAPPIST-1e  \n",
       "0                        0                          0                        1  \n",
       "1                        0                          0                        1  \n",
       "2                        0                          0                        1  \n",
       "3                        0                          0                        1  \n",
       "4                        0                          0                        1  \n",
       "\n",
       "[5 rows x 6577 columns]"
      ]
     },
     "execution_count": 94,
     "metadata": {},
     "output_type": "execute_result"
    }
   ],
   "source": [
    "train_df = pd.get_dummies(train_df, columns = ['HomePlanet'])\n",
    "train_df = pd.get_dummies(train_df, columns = ['Cabin'])\n",
    "train_df = pd.get_dummies(train_df, columns = ['Destination'])\n",
    "\n",
    "test_df = pd.get_dummies(test_df, columns=['HomePlanet'])\n",
    "test_df = pd.get_dummies(test_df, columns=['Cabin'])\n",
    "test_df = pd.get_dummies(test_df, columns=['Destination'])\n",
    "\n",
    "\n",
    "train_df.head()"
   ]
  },
  {
   "cell_type": "code",
   "execution_count": 95,
   "metadata": {
    "execution": {
     "iopub.execute_input": "2024-03-05T16:37:50.418034Z",
     "iopub.status.busy": "2024-03-05T16:37:50.417655Z",
     "iopub.status.idle": "2024-03-05T16:37:50.580174Z",
     "shell.execute_reply": "2024-03-05T16:37:50.579059Z",
     "shell.execute_reply.started": "2024-03-05T16:37:50.418005Z"
    }
   },
   "outputs": [
    {
     "data": {
      "text/html": [
       "<div>\n",
       "<style scoped>\n",
       "    .dataframe tbody tr th:only-of-type {\n",
       "        vertical-align: middle;\n",
       "    }\n",
       "\n",
       "    .dataframe tbody tr th {\n",
       "        vertical-align: top;\n",
       "    }\n",
       "\n",
       "    .dataframe thead th {\n",
       "        text-align: right;\n",
       "    }\n",
       "</style>\n",
       "<table border=\"1\" class=\"dataframe\">\n",
       "  <thead>\n",
       "    <tr style=\"text-align: right;\">\n",
       "      <th></th>\n",
       "      <th>CryoSleep</th>\n",
       "      <th>Age</th>\n",
       "      <th>VIP</th>\n",
       "      <th>RoomService</th>\n",
       "      <th>FoodCourt</th>\n",
       "      <th>ShoppingMall</th>\n",
       "      <th>Spa</th>\n",
       "      <th>VRDeck</th>\n",
       "      <th>Transported</th>\n",
       "      <th>HomePlanet_Earth</th>\n",
       "      <th>...</th>\n",
       "      <th>Cabin_G/999/P</th>\n",
       "      <th>Cabin_G/999/S</th>\n",
       "      <th>Cabin_T/0/P</th>\n",
       "      <th>Cabin_T/1/P</th>\n",
       "      <th>Cabin_T/2/P</th>\n",
       "      <th>Cabin_T/2/S</th>\n",
       "      <th>Cabin_T/3/P</th>\n",
       "      <th>Destination_55 Cancri e</th>\n",
       "      <th>Destination_PSO J318.5-22</th>\n",
       "      <th>Destination_TRAPPIST-1e</th>\n",
       "    </tr>\n",
       "  </thead>\n",
       "  <tbody>\n",
       "    <tr>\n",
       "      <th>0</th>\n",
       "      <td>0</td>\n",
       "      <td>39</td>\n",
       "      <td>0</td>\n",
       "      <td>0</td>\n",
       "      <td>0</td>\n",
       "      <td>0</td>\n",
       "      <td>0</td>\n",
       "      <td>0</td>\n",
       "      <td>0</td>\n",
       "      <td>0</td>\n",
       "      <td>...</td>\n",
       "      <td>0</td>\n",
       "      <td>0</td>\n",
       "      <td>0</td>\n",
       "      <td>0</td>\n",
       "      <td>0</td>\n",
       "      <td>0</td>\n",
       "      <td>0</td>\n",
       "      <td>0</td>\n",
       "      <td>0</td>\n",
       "      <td>1</td>\n",
       "    </tr>\n",
       "    <tr>\n",
       "      <th>1</th>\n",
       "      <td>0</td>\n",
       "      <td>24</td>\n",
       "      <td>0</td>\n",
       "      <td>109</td>\n",
       "      <td>9</td>\n",
       "      <td>25</td>\n",
       "      <td>549</td>\n",
       "      <td>44</td>\n",
       "      <td>1</td>\n",
       "      <td>1</td>\n",
       "      <td>...</td>\n",
       "      <td>0</td>\n",
       "      <td>0</td>\n",
       "      <td>0</td>\n",
       "      <td>0</td>\n",
       "      <td>0</td>\n",
       "      <td>0</td>\n",
       "      <td>0</td>\n",
       "      <td>0</td>\n",
       "      <td>0</td>\n",
       "      <td>1</td>\n",
       "    </tr>\n",
       "    <tr>\n",
       "      <th>2</th>\n",
       "      <td>0</td>\n",
       "      <td>58</td>\n",
       "      <td>1</td>\n",
       "      <td>43</td>\n",
       "      <td>3576</td>\n",
       "      <td>0</td>\n",
       "      <td>6715</td>\n",
       "      <td>49</td>\n",
       "      <td>0</td>\n",
       "      <td>0</td>\n",
       "      <td>...</td>\n",
       "      <td>0</td>\n",
       "      <td>0</td>\n",
       "      <td>0</td>\n",
       "      <td>0</td>\n",
       "      <td>0</td>\n",
       "      <td>0</td>\n",
       "      <td>0</td>\n",
       "      <td>0</td>\n",
       "      <td>0</td>\n",
       "      <td>1</td>\n",
       "    </tr>\n",
       "    <tr>\n",
       "      <th>3</th>\n",
       "      <td>0</td>\n",
       "      <td>33</td>\n",
       "      <td>0</td>\n",
       "      <td>0</td>\n",
       "      <td>1283</td>\n",
       "      <td>371</td>\n",
       "      <td>3329</td>\n",
       "      <td>193</td>\n",
       "      <td>0</td>\n",
       "      <td>0</td>\n",
       "      <td>...</td>\n",
       "      <td>0</td>\n",
       "      <td>0</td>\n",
       "      <td>0</td>\n",
       "      <td>0</td>\n",
       "      <td>0</td>\n",
       "      <td>0</td>\n",
       "      <td>0</td>\n",
       "      <td>0</td>\n",
       "      <td>0</td>\n",
       "      <td>1</td>\n",
       "    </tr>\n",
       "    <tr>\n",
       "      <th>4</th>\n",
       "      <td>0</td>\n",
       "      <td>16</td>\n",
       "      <td>0</td>\n",
       "      <td>303</td>\n",
       "      <td>70</td>\n",
       "      <td>151</td>\n",
       "      <td>565</td>\n",
       "      <td>2</td>\n",
       "      <td>1</td>\n",
       "      <td>1</td>\n",
       "      <td>...</td>\n",
       "      <td>0</td>\n",
       "      <td>0</td>\n",
       "      <td>0</td>\n",
       "      <td>0</td>\n",
       "      <td>0</td>\n",
       "      <td>0</td>\n",
       "      <td>0</td>\n",
       "      <td>0</td>\n",
       "      <td>0</td>\n",
       "      <td>1</td>\n",
       "    </tr>\n",
       "  </tbody>\n",
       "</table>\n",
       "<p>5 rows × 6575 columns</p>\n",
       "</div>"
      ],
      "text/plain": [
       "   CryoSleep  Age  VIP  RoomService  FoodCourt  ShoppingMall   Spa  VRDeck  \\\n",
       "0          0   39    0            0          0             0     0       0   \n",
       "1          0   24    0          109          9            25   549      44   \n",
       "2          0   58    1           43       3576             0  6715      49   \n",
       "3          0   33    0            0       1283           371  3329     193   \n",
       "4          0   16    0          303         70           151   565       2   \n",
       "\n",
       "   Transported  HomePlanet_Earth  ...  Cabin_G/999/P  Cabin_G/999/S  \\\n",
       "0            0                 0  ...              0              0   \n",
       "1            1                 1  ...              0              0   \n",
       "2            0                 0  ...              0              0   \n",
       "3            0                 0  ...              0              0   \n",
       "4            1                 1  ...              0              0   \n",
       "\n",
       "   Cabin_T/0/P  Cabin_T/1/P  Cabin_T/2/P  Cabin_T/2/S  Cabin_T/3/P  \\\n",
       "0            0            0            0            0            0   \n",
       "1            0            0            0            0            0   \n",
       "2            0            0            0            0            0   \n",
       "3            0            0            0            0            0   \n",
       "4            0            0            0            0            0   \n",
       "\n",
       "   Destination_55 Cancri e  Destination_PSO J318.5-22  Destination_TRAPPIST-1e  \n",
       "0                        0                          0                        1  \n",
       "1                        0                          0                        1  \n",
       "2                        0                          0                        1  \n",
       "3                        0                          0                        1  \n",
       "4                        0                          0                        1  \n",
       "\n",
       "[5 rows x 6575 columns]"
      ]
     },
     "execution_count": 95,
     "metadata": {},
     "output_type": "execute_result"
    }
   ],
   "source": [
    "train_df = train_df.drop(['PassengerId','Name'], axis=1)\n",
    "train_df = train_df.astype(int)\n",
    "train_df.head()"
   ]
  },
  {
   "cell_type": "code",
   "execution_count": 97,
   "metadata": {},
   "outputs": [],
   "source": [
    "test_df = test_df.drop('Name', axis=1)"
   ]
  },
  {
   "cell_type": "code",
   "execution_count": 98,
   "metadata": {
    "execution": {
     "iopub.execute_input": "2024-03-05T16:41:55.226040Z",
     "iopub.status.busy": "2024-03-05T16:41:55.225648Z",
     "iopub.status.idle": "2024-03-05T16:41:55.233159Z",
     "shell.execute_reply": "2024-03-05T16:41:55.231827Z",
     "shell.execute_reply.started": "2024-03-05T16:41:55.226011Z"
    }
   },
   "outputs": [
    {
     "data": {
      "text/plain": [
       "((8693, 6575),\n",
       "   PassengerId  CryoSleep   Age    VIP  RoomService  FoodCourt  ShoppingMall  \\\n",
       " 0     0013_01       True  27.0  False          0.0        0.0           0.0   \n",
       " 1     0018_01      False  19.0  False          0.0        9.0           0.0   \n",
       " 2     0019_01       True  31.0  False          0.0        0.0           0.0   \n",
       " 3     0021_01      False  38.0  False          0.0     6652.0           0.0   \n",
       " 4     0023_01      False  20.0  False         10.0        0.0         635.0   \n",
       " \n",
       "       Spa  VRDeck  HomePlanet_Earth  ...  Cabin_G/996/P  Cabin_G/997/P  \\\n",
       " 0     0.0     0.0                 1  ...              0              0   \n",
       " 1  2823.0     0.0                 1  ...              0              0   \n",
       " 2     0.0     0.0                 0  ...              0              0   \n",
       " 3   181.0   585.0                 0  ...              0              0   \n",
       " 4     0.0     0.0                 1  ...              0              0   \n",
       " \n",
       "    Cabin_G/997/S  Cabin_T/0/S  Cabin_T/1/S  Cabin_T/3/S  Cabin_T/4/P  \\\n",
       " 0              0            0            0            0            0   \n",
       " 1              0            0            0            0            0   \n",
       " 2              0            0            0            0            0   \n",
       " 3              0            0            0            0            0   \n",
       " 4              0            0            0            0            0   \n",
       " \n",
       "    Destination_55 Cancri e  Destination_PSO J318.5-22  Destination_TRAPPIST-1e  \n",
       " 0                        0                          0                        1  \n",
       " 1                        0                          0                        1  \n",
       " 2                        1                          0                        0  \n",
       " 3                        0                          0                        1  \n",
       " 4                        0                          0                        1  \n",
       " \n",
       " [5 rows x 3280 columns])"
      ]
     },
     "execution_count": 98,
     "metadata": {},
     "output_type": "execute_result"
    }
   ],
   "source": [
    "train_df.shape, test_df.head()"
   ]
  },
  {
   "cell_type": "code",
   "execution_count": 99,
   "metadata": {
    "execution": {
     "iopub.execute_input": "2024-03-05T16:43:51.656822Z",
     "iopub.status.busy": "2024-03-05T16:43:51.656386Z",
     "iopub.status.idle": "2024-03-05T16:43:52.103953Z",
     "shell.execute_reply": "2024-03-05T16:43:52.102781Z",
     "shell.execute_reply.started": "2024-03-05T16:43:51.656788Z"
    }
   },
   "outputs": [
    {
     "data": {
      "text/plain": [
       "CryoSleep           2.273342e-01\n",
       "Age                 2.060786e+02\n",
       "VIP                 2.237051e-02\n",
       "RoomService         4.362854e+05\n",
       "FoodCourt           2.546548e+06\n",
       "ShoppingMall        3.576126e+05\n",
       "Spa                 1.266891e+06\n",
       "VRDeck              1.286243e+06\n",
       "Transported         2.500156e-01\n",
       "HomePlanet_Earth    2.472708e-01\n",
       "dtype: float64"
      ]
     },
     "execution_count": 99,
     "metadata": {},
     "output_type": "execute_result"
    }
   ],
   "source": [
    "col_var = train_df.var(axis=0)\n",
    "col_var.head(10)"
   ]
  },
  {
   "cell_type": "code",
   "execution_count": 100,
   "metadata": {
    "execution": {
     "iopub.execute_input": "2024-03-05T16:45:51.646700Z",
     "iopub.status.busy": "2024-03-05T16:45:51.646319Z",
     "iopub.status.idle": "2024-03-05T16:46:04.882212Z",
     "shell.execute_reply": "2024-03-05T16:46:04.880968Z",
     "shell.execute_reply.started": "2024-03-05T16:45:51.646671Z"
    }
   },
   "outputs": [
    {
     "data": {
      "text/html": [
       "<div>\n",
       "<style scoped>\n",
       "    .dataframe tbody tr th:only-of-type {\n",
       "        vertical-align: middle;\n",
       "    }\n",
       "\n",
       "    .dataframe tbody tr th {\n",
       "        vertical-align: top;\n",
       "    }\n",
       "\n",
       "    .dataframe thead th {\n",
       "        text-align: right;\n",
       "    }\n",
       "</style>\n",
       "<table border=\"1\" class=\"dataframe\">\n",
       "  <thead>\n",
       "    <tr style=\"text-align: right;\">\n",
       "      <th></th>\n",
       "      <th>CryoSleep</th>\n",
       "      <th>Age</th>\n",
       "      <th>VIP</th>\n",
       "      <th>RoomService</th>\n",
       "      <th>FoodCourt</th>\n",
       "      <th>ShoppingMall</th>\n",
       "      <th>Spa</th>\n",
       "      <th>VRDeck</th>\n",
       "      <th>Transported</th>\n",
       "      <th>HomePlanet_Earth</th>\n",
       "      <th>...</th>\n",
       "      <th>Cabin_G/999/P</th>\n",
       "      <th>Cabin_G/999/S</th>\n",
       "      <th>Cabin_T/0/P</th>\n",
       "      <th>Cabin_T/1/P</th>\n",
       "      <th>Cabin_T/2/P</th>\n",
       "      <th>Cabin_T/2/S</th>\n",
       "      <th>Cabin_T/3/P</th>\n",
       "      <th>Destination_55 Cancri e</th>\n",
       "      <th>Destination_PSO J318.5-22</th>\n",
       "      <th>Destination_TRAPPIST-1e</th>\n",
       "    </tr>\n",
       "  </thead>\n",
       "  <tbody>\n",
       "    <tr>\n",
       "      <th>count</th>\n",
       "      <td>8693.000000</td>\n",
       "      <td>8693.000000</td>\n",
       "      <td>8693.000000</td>\n",
       "      <td>8693.000000</td>\n",
       "      <td>8693.000000</td>\n",
       "      <td>8693.000000</td>\n",
       "      <td>8693.000000</td>\n",
       "      <td>8693.000000</td>\n",
       "      <td>8693.000000</td>\n",
       "      <td>8693.000000</td>\n",
       "      <td>...</td>\n",
       "      <td>8693.000000</td>\n",
       "      <td>8693.000000</td>\n",
       "      <td>8693.000000</td>\n",
       "      <td>8693.000000</td>\n",
       "      <td>8693.000000</td>\n",
       "      <td>8693.000000</td>\n",
       "      <td>8693.000000</td>\n",
       "      <td>8693.000000</td>\n",
       "      <td>8693.000000</td>\n",
       "      <td>8693.000000</td>\n",
       "    </tr>\n",
       "    <tr>\n",
       "      <th>mean</th>\n",
       "      <td>0.349362</td>\n",
       "      <td>28.728517</td>\n",
       "      <td>0.022892</td>\n",
       "      <td>220.009318</td>\n",
       "      <td>448.434027</td>\n",
       "      <td>169.572300</td>\n",
       "      <td>304.588865</td>\n",
       "      <td>298.261820</td>\n",
       "      <td>0.503624</td>\n",
       "      <td>0.552514</td>\n",
       "      <td>...</td>\n",
       "      <td>0.000230</td>\n",
       "      <td>0.000230</td>\n",
       "      <td>0.000115</td>\n",
       "      <td>0.000115</td>\n",
       "      <td>0.000115</td>\n",
       "      <td>0.000115</td>\n",
       "      <td>0.000115</td>\n",
       "      <td>0.207063</td>\n",
       "      <td>0.091568</td>\n",
       "      <td>0.701369</td>\n",
       "    </tr>\n",
       "    <tr>\n",
       "      <th>std</th>\n",
       "      <td>0.476796</td>\n",
       "      <td>14.355438</td>\n",
       "      <td>0.149568</td>\n",
       "      <td>660.519050</td>\n",
       "      <td>1595.790627</td>\n",
       "      <td>598.007164</td>\n",
       "      <td>1125.562559</td>\n",
       "      <td>1134.126417</td>\n",
       "      <td>0.500016</td>\n",
       "      <td>0.497263</td>\n",
       "      <td>...</td>\n",
       "      <td>0.015167</td>\n",
       "      <td>0.015167</td>\n",
       "      <td>0.010725</td>\n",
       "      <td>0.010725</td>\n",
       "      <td>0.010725</td>\n",
       "      <td>0.010725</td>\n",
       "      <td>0.010725</td>\n",
       "      <td>0.405224</td>\n",
       "      <td>0.288432</td>\n",
       "      <td>0.457684</td>\n",
       "    </tr>\n",
       "    <tr>\n",
       "      <th>min</th>\n",
       "      <td>0.000000</td>\n",
       "      <td>0.000000</td>\n",
       "      <td>0.000000</td>\n",
       "      <td>0.000000</td>\n",
       "      <td>0.000000</td>\n",
       "      <td>0.000000</td>\n",
       "      <td>0.000000</td>\n",
       "      <td>0.000000</td>\n",
       "      <td>0.000000</td>\n",
       "      <td>0.000000</td>\n",
       "      <td>...</td>\n",
       "      <td>0.000000</td>\n",
       "      <td>0.000000</td>\n",
       "      <td>0.000000</td>\n",
       "      <td>0.000000</td>\n",
       "      <td>0.000000</td>\n",
       "      <td>0.000000</td>\n",
       "      <td>0.000000</td>\n",
       "      <td>0.000000</td>\n",
       "      <td>0.000000</td>\n",
       "      <td>0.000000</td>\n",
       "    </tr>\n",
       "    <tr>\n",
       "      <th>25%</th>\n",
       "      <td>0.000000</td>\n",
       "      <td>20.000000</td>\n",
       "      <td>0.000000</td>\n",
       "      <td>0.000000</td>\n",
       "      <td>0.000000</td>\n",
       "      <td>0.000000</td>\n",
       "      <td>0.000000</td>\n",
       "      <td>0.000000</td>\n",
       "      <td>0.000000</td>\n",
       "      <td>0.000000</td>\n",
       "      <td>...</td>\n",
       "      <td>0.000000</td>\n",
       "      <td>0.000000</td>\n",
       "      <td>0.000000</td>\n",
       "      <td>0.000000</td>\n",
       "      <td>0.000000</td>\n",
       "      <td>0.000000</td>\n",
       "      <td>0.000000</td>\n",
       "      <td>0.000000</td>\n",
       "      <td>0.000000</td>\n",
       "      <td>0.000000</td>\n",
       "    </tr>\n",
       "    <tr>\n",
       "      <th>50%</th>\n",
       "      <td>0.000000</td>\n",
       "      <td>27.000000</td>\n",
       "      <td>0.000000</td>\n",
       "      <td>0.000000</td>\n",
       "      <td>0.000000</td>\n",
       "      <td>0.000000</td>\n",
       "      <td>0.000000</td>\n",
       "      <td>0.000000</td>\n",
       "      <td>1.000000</td>\n",
       "      <td>1.000000</td>\n",
       "      <td>...</td>\n",
       "      <td>0.000000</td>\n",
       "      <td>0.000000</td>\n",
       "      <td>0.000000</td>\n",
       "      <td>0.000000</td>\n",
       "      <td>0.000000</td>\n",
       "      <td>0.000000</td>\n",
       "      <td>0.000000</td>\n",
       "      <td>0.000000</td>\n",
       "      <td>0.000000</td>\n",
       "      <td>1.000000</td>\n",
       "    </tr>\n",
       "    <tr>\n",
       "      <th>75%</th>\n",
       "      <td>1.000000</td>\n",
       "      <td>37.000000</td>\n",
       "      <td>0.000000</td>\n",
       "      <td>41.000000</td>\n",
       "      <td>61.000000</td>\n",
       "      <td>22.000000</td>\n",
       "      <td>53.000000</td>\n",
       "      <td>40.000000</td>\n",
       "      <td>1.000000</td>\n",
       "      <td>1.000000</td>\n",
       "      <td>...</td>\n",
       "      <td>0.000000</td>\n",
       "      <td>0.000000</td>\n",
       "      <td>0.000000</td>\n",
       "      <td>0.000000</td>\n",
       "      <td>0.000000</td>\n",
       "      <td>0.000000</td>\n",
       "      <td>0.000000</td>\n",
       "      <td>0.000000</td>\n",
       "      <td>0.000000</td>\n",
       "      <td>1.000000</td>\n",
       "    </tr>\n",
       "    <tr>\n",
       "      <th>max</th>\n",
       "      <td>1.000000</td>\n",
       "      <td>79.000000</td>\n",
       "      <td>1.000000</td>\n",
       "      <td>14327.000000</td>\n",
       "      <td>29813.000000</td>\n",
       "      <td>23492.000000</td>\n",
       "      <td>22408.000000</td>\n",
       "      <td>24133.000000</td>\n",
       "      <td>1.000000</td>\n",
       "      <td>1.000000</td>\n",
       "      <td>...</td>\n",
       "      <td>1.000000</td>\n",
       "      <td>1.000000</td>\n",
       "      <td>1.000000</td>\n",
       "      <td>1.000000</td>\n",
       "      <td>1.000000</td>\n",
       "      <td>1.000000</td>\n",
       "      <td>1.000000</td>\n",
       "      <td>1.000000</td>\n",
       "      <td>1.000000</td>\n",
       "      <td>1.000000</td>\n",
       "    </tr>\n",
       "  </tbody>\n",
       "</table>\n",
       "<p>8 rows × 6575 columns</p>\n",
       "</div>"
      ],
      "text/plain": [
       "         CryoSleep          Age          VIP   RoomService     FoodCourt  \\\n",
       "count  8693.000000  8693.000000  8693.000000   8693.000000   8693.000000   \n",
       "mean      0.349362    28.728517     0.022892    220.009318    448.434027   \n",
       "std       0.476796    14.355438     0.149568    660.519050   1595.790627   \n",
       "min       0.000000     0.000000     0.000000      0.000000      0.000000   \n",
       "25%       0.000000    20.000000     0.000000      0.000000      0.000000   \n",
       "50%       0.000000    27.000000     0.000000      0.000000      0.000000   \n",
       "75%       1.000000    37.000000     0.000000     41.000000     61.000000   \n",
       "max       1.000000    79.000000     1.000000  14327.000000  29813.000000   \n",
       "\n",
       "       ShoppingMall           Spa        VRDeck  Transported  \\\n",
       "count   8693.000000   8693.000000   8693.000000  8693.000000   \n",
       "mean     169.572300    304.588865    298.261820     0.503624   \n",
       "std      598.007164   1125.562559   1134.126417     0.500016   \n",
       "min        0.000000      0.000000      0.000000     0.000000   \n",
       "25%        0.000000      0.000000      0.000000     0.000000   \n",
       "50%        0.000000      0.000000      0.000000     1.000000   \n",
       "75%       22.000000     53.000000     40.000000     1.000000   \n",
       "max    23492.000000  22408.000000  24133.000000     1.000000   \n",
       "\n",
       "       HomePlanet_Earth  ...  Cabin_G/999/P  Cabin_G/999/S  Cabin_T/0/P  \\\n",
       "count       8693.000000  ...    8693.000000    8693.000000  8693.000000   \n",
       "mean           0.552514  ...       0.000230       0.000230     0.000115   \n",
       "std            0.497263  ...       0.015167       0.015167     0.010725   \n",
       "min            0.000000  ...       0.000000       0.000000     0.000000   \n",
       "25%            0.000000  ...       0.000000       0.000000     0.000000   \n",
       "50%            1.000000  ...       0.000000       0.000000     0.000000   \n",
       "75%            1.000000  ...       0.000000       0.000000     0.000000   \n",
       "max            1.000000  ...       1.000000       1.000000     1.000000   \n",
       "\n",
       "       Cabin_T/1/P  Cabin_T/2/P  Cabin_T/2/S  Cabin_T/3/P  \\\n",
       "count  8693.000000  8693.000000  8693.000000  8693.000000   \n",
       "mean      0.000115     0.000115     0.000115     0.000115   \n",
       "std       0.010725     0.010725     0.010725     0.010725   \n",
       "min       0.000000     0.000000     0.000000     0.000000   \n",
       "25%       0.000000     0.000000     0.000000     0.000000   \n",
       "50%       0.000000     0.000000     0.000000     0.000000   \n",
       "75%       0.000000     0.000000     0.000000     0.000000   \n",
       "max       1.000000     1.000000     1.000000     1.000000   \n",
       "\n",
       "       Destination_55 Cancri e  Destination_PSO J318.5-22  \\\n",
       "count              8693.000000                8693.000000   \n",
       "mean                  0.207063                   0.091568   \n",
       "std                   0.405224                   0.288432   \n",
       "min                   0.000000                   0.000000   \n",
       "25%                   0.000000                   0.000000   \n",
       "50%                   0.000000                   0.000000   \n",
       "75%                   0.000000                   0.000000   \n",
       "max                   1.000000                   1.000000   \n",
       "\n",
       "       Destination_TRAPPIST-1e  \n",
       "count              8693.000000  \n",
       "mean                  0.701369  \n",
       "std                   0.457684  \n",
       "min                   0.000000  \n",
       "25%                   0.000000  \n",
       "50%                   1.000000  \n",
       "75%                   1.000000  \n",
       "max                   1.000000  \n",
       "\n",
       "[8 rows x 6575 columns]"
      ]
     },
     "execution_count": 100,
     "metadata": {},
     "output_type": "execute_result"
    }
   ],
   "source": [
    "train_df.describe()"
   ]
  },
  {
   "cell_type": "markdown",
   "metadata": {},
   "source": [
    "# Splitting data into Target & Feartures"
   ]
  },
  {
   "cell_type": "code",
   "execution_count": 44,
   "metadata": {
    "execution": {
     "iopub.execute_input": "2024-03-05T17:01:11.747210Z",
     "iopub.status.busy": "2024-03-05T17:01:11.746782Z",
     "iopub.status.idle": "2024-03-05T17:01:11.906577Z",
     "shell.execute_reply": "2024-03-05T17:01:11.905474Z",
     "shell.execute_reply.started": "2024-03-05T17:01:11.747163Z"
    }
   },
   "outputs": [
    {
     "data": {
      "text/plain": [
       "((8693, 6574), (8693, 1))"
      ]
     },
     "execution_count": 44,
     "metadata": {},
     "output_type": "execute_result"
    }
   ],
   "source": [
    "x = train_df.drop(columns='Transported', axis= 1) #features\n",
    "y = train_df.drop(train_df.columns.difference(['Transported']), axis = 1)      #the target \n",
    "x.shape, y.shape"
   ]
  },
  {
   "cell_type": "code",
   "execution_count": 45,
   "metadata": {
    "execution": {
     "iopub.execute_input": "2024-03-05T17:34:20.414297Z",
     "iopub.status.busy": "2024-03-05T17:34:20.413789Z",
     "iopub.status.idle": "2024-03-05T17:34:21.779091Z",
     "shell.execute_reply": "2024-03-05T17:34:21.778073Z",
     "shell.execute_reply.started": "2024-03-05T17:34:20.414262Z"
    }
   },
   "outputs": [],
   "source": [
    "from sklearn.model_selection import train_test_split\n",
    "x_train, x_test, y_train, y_test = train_test_split(x, y, train_size=0.8, random_state=29)"
   ]
  },
  {
   "cell_type": "code",
   "execution_count": 46,
   "metadata": {
    "execution": {
     "iopub.execute_input": "2024-03-05T17:34:23.745256Z",
     "iopub.status.busy": "2024-03-05T17:34:23.744609Z",
     "iopub.status.idle": "2024-03-05T17:34:23.752472Z",
     "shell.execute_reply": "2024-03-05T17:34:23.751266Z",
     "shell.execute_reply.started": "2024-03-05T17:34:23.745213Z"
    }
   },
   "outputs": [
    {
     "data": {
      "text/plain": [
       "(6954, 1)"
      ]
     },
     "execution_count": 46,
     "metadata": {},
     "output_type": "execute_result"
    }
   ],
   "source": [
    "y_train.shape"
   ]
  },
  {
   "cell_type": "markdown",
   "metadata": {},
   "source": [
    "# Choose a Model"
   ]
  },
  {
   "cell_type": "code",
   "execution_count": 33,
   "metadata": {
    "execution": {
     "iopub.execute_input": "2024-03-05T17:40:03.028185Z",
     "iopub.status.busy": "2024-03-05T17:40:03.027476Z",
     "iopub.status.idle": "2024-03-05T17:42:33.029454Z",
     "shell.execute_reply": "2024-03-05T17:42:33.028331Z",
     "shell.execute_reply.started": "2024-03-05T17:40:03.028148Z"
    }
   },
   "outputs": [
    {
     "name": "stdout",
     "output_type": "stream",
     "text": [
      "Collecting ubml\n",
      "  Downloading ubml-1.2-py3-none-any.whl (4.2 kB)\n",
      "Installing collected packages: ubml\n",
      "Successfully installed ubml-1.2\n"
     ]
    }
   ],
   "source": [
    "!pip install ubml"
   ]
  },
  {
   "cell_type": "code",
   "execution_count": 48,
   "metadata": {
    "execution": {
     "iopub.execute_input": "2024-03-05T17:35:16.455945Z",
     "iopub.status.busy": "2024-03-05T17:35:16.455513Z",
     "iopub.status.idle": "2024-03-05T17:35:20.429956Z",
     "shell.execute_reply": "2024-03-05T17:35:20.428417Z",
     "shell.execute_reply.started": "2024-03-05T17:35:16.455912Z"
    }
   },
   "outputs": [
    {
     "name": "stdout",
     "output_type": "stream",
     "text": [
      "Random Forest Classifier\n"
     ]
    },
    {
     "data": {
      "text/html": [
       "<div>\n",
       "<style scoped>\n",
       "    .dataframe tbody tr th:only-of-type {\n",
       "        vertical-align: middle;\n",
       "    }\n",
       "\n",
       "    .dataframe tbody tr th {\n",
       "        vertical-align: top;\n",
       "    }\n",
       "\n",
       "    .dataframe thead th {\n",
       "        text-align: right;\n",
       "    }\n",
       "</style>\n",
       "<table border=\"1\" class=\"dataframe\">\n",
       "  <thead>\n",
       "    <tr style=\"text-align: right;\">\n",
       "      <th></th>\n",
       "      <th>accuracy score train</th>\n",
       "      <th>accuracy score test</th>\n",
       "      <th>f1 score train</th>\n",
       "      <th>f1 score test</th>\n",
       "      <th>recall score train</th>\n",
       "      <th>recall score test</th>\n",
       "      <th>jaccard score train</th>\n",
       "      <th>jaccard score test</th>\n",
       "      <th>precision score train</th>\n",
       "      <th>precision score test</th>\n",
       "    </tr>\n",
       "  </thead>\n",
       "  <tbody>\n",
       "    <tr>\n",
       "      <th>Logistic Regression</th>\n",
       "      <td>0.787</td>\n",
       "      <td>0.771</td>\n",
       "      <td>0.791</td>\n",
       "      <td>0.772</td>\n",
       "      <td>0.792</td>\n",
       "      <td>0.793</td>\n",
       "      <td>0.654</td>\n",
       "      <td>0.629</td>\n",
       "      <td>0.789</td>\n",
       "      <td>0.753</td>\n",
       "    </tr>\n",
       "    <tr>\n",
       "      <th>KNN Classifier</th>\n",
       "      <td>0.836</td>\n",
       "      <td>0.766</td>\n",
       "      <td>0.840</td>\n",
       "      <td>0.767</td>\n",
       "      <td>0.849</td>\n",
       "      <td>0.786</td>\n",
       "      <td>0.724</td>\n",
       "      <td>0.622</td>\n",
       "      <td>0.831</td>\n",
       "      <td>0.750</td>\n",
       "    </tr>\n",
       "    <tr>\n",
       "      <th>SVM Classifier</th>\n",
       "      <td>0.791</td>\n",
       "      <td>0.779</td>\n",
       "      <td>0.812</td>\n",
       "      <td>0.796</td>\n",
       "      <td>0.887</td>\n",
       "      <td>0.876</td>\n",
       "      <td>0.683</td>\n",
       "      <td>0.661</td>\n",
       "      <td>0.748</td>\n",
       "      <td>0.729</td>\n",
       "    </tr>\n",
       "    <tr>\n",
       "      <th>Naive Bayes Classifier</th>\n",
       "      <td>0.949</td>\n",
       "      <td>0.632</td>\n",
       "      <td>0.950</td>\n",
       "      <td>0.698</td>\n",
       "      <td>0.964</td>\n",
       "      <td>0.864</td>\n",
       "      <td>0.905</td>\n",
       "      <td>0.536</td>\n",
       "      <td>0.937</td>\n",
       "      <td>0.585</td>\n",
       "    </tr>\n",
       "    <tr>\n",
       "      <th>Decision Tree Classifier</th>\n",
       "      <td>0.999</td>\n",
       "      <td>0.764</td>\n",
       "      <td>0.999</td>\n",
       "      <td>0.768</td>\n",
       "      <td>0.999</td>\n",
       "      <td>0.794</td>\n",
       "      <td>0.999</td>\n",
       "      <td>0.623</td>\n",
       "      <td>1.000</td>\n",
       "      <td>0.743</td>\n",
       "    </tr>\n",
       "    <tr>\n",
       "      <th>Random Forest Classifier</th>\n",
       "      <td>0.999</td>\n",
       "      <td>0.782</td>\n",
       "      <td>0.999</td>\n",
       "      <td>0.780</td>\n",
       "      <td>1.000</td>\n",
       "      <td>0.788</td>\n",
       "      <td>0.999</td>\n",
       "      <td>0.640</td>\n",
       "      <td>0.999</td>\n",
       "      <td>0.773</td>\n",
       "    </tr>\n",
       "  </tbody>\n",
       "</table>\n",
       "</div>"
      ],
      "text/plain": [
       "                          accuracy score train  accuracy score test  \\\n",
       "Logistic Regression                      0.787                0.771   \n",
       "KNN Classifier                           0.836                0.766   \n",
       "SVM Classifier                           0.791                0.779   \n",
       "Naive Bayes Classifier                   0.949                0.632   \n",
       "Decision Tree Classifier                 0.999                0.764   \n",
       "Random Forest Classifier                 0.999                0.782   \n",
       "\n",
       "                          f1 score train  f1 score test  recall score train  \\\n",
       "Logistic Regression                0.791          0.772               0.792   \n",
       "KNN Classifier                     0.840          0.767               0.849   \n",
       "SVM Classifier                     0.812          0.796               0.887   \n",
       "Naive Bayes Classifier             0.950          0.698               0.964   \n",
       "Decision Tree Classifier           0.999          0.768               0.999   \n",
       "Random Forest Classifier           0.999          0.780               1.000   \n",
       "\n",
       "                          recall score test  jaccard score train  \\\n",
       "Logistic Regression                   0.793                0.654   \n",
       "KNN Classifier                        0.786                0.724   \n",
       "SVM Classifier                        0.876                0.683   \n",
       "Naive Bayes Classifier                0.864                0.905   \n",
       "Decision Tree Classifier              0.794                0.999   \n",
       "Random Forest Classifier              0.788                0.999   \n",
       "\n",
       "                          jaccard score test  precision score train  \\\n",
       "Logistic Regression                    0.629                  0.789   \n",
       "KNN Classifier                         0.622                  0.831   \n",
       "SVM Classifier                         0.661                  0.748   \n",
       "Naive Bayes Classifier                 0.536                  0.937   \n",
       "Decision Tree Classifier               0.623                  1.000   \n",
       "Random Forest Classifier               0.640                  0.999   \n",
       "\n",
       "                          precision score test  \n",
       "Logistic Regression                      0.753  \n",
       "KNN Classifier                           0.750  \n",
       "SVM Classifier                           0.729  \n",
       "Naive Bayes Classifier                   0.585  \n",
       "Decision Tree Classifier                 0.743  \n",
       "Random Forest Classifier                 0.773  "
      ]
     },
     "execution_count": 48,
     "metadata": {},
     "output_type": "execute_result"
    }
   ],
   "source": [
    "import ubml \n",
    "\n",
    "metrics_performance, best_model = ubml.model_train_test(mode='classification', x_train = x_train, x_test = x_test, y_train = y_train, y_test = y_test)\n",
    "print('the best model is :',best_model)\n",
    "metrics_performance"
   ]
  },
  {
   "cell_type": "code",
   "execution_count": 49,
   "metadata": {},
   "outputs": [
    {
     "name": "stdout",
     "output_type": "stream",
     "text": [
      "the best model is : Random Forest Classifier\n"
     ]
    }
   ],
   "source": [
    "print('the best model is :',best_model)"
   ]
  },
  {
   "cell_type": "markdown",
   "metadata": {},
   "source": [
    "# Random Forest Classifier"
   ]
  },
  {
   "cell_type": "code",
   "execution_count": 63,
   "metadata": {},
   "outputs": [
    {
     "data": {
      "text/plain": [
       "array([0, 1, 0, ..., 1, 0, 0])"
      ]
     },
     "execution_count": 63,
     "metadata": {},
     "output_type": "execute_result"
    }
   ],
   "source": [
    "from sklearn.ensemble import RandomForestClassifier\n",
    "model = RandomForestClassifier() \n",
    "model.fit(x_train, y_train)\n",
    "prediction = model.predict(x_test)\n",
    "prediction"
   ]
  },
  {
   "cell_type": "code",
   "execution_count": 60,
   "metadata": {},
   "outputs": [
    {
     "data": {
      "text/plain": [
       "array([ True,  True, False, ...,  True, False, False])"
      ]
     },
     "execution_count": 60,
     "metadata": {},
     "output_type": "execute_result"
    }
   ],
   "source": [
    "threshold = 0.5\n",
    "boolean_predictions = prediction > threshold\n",
    "boolean_predictions"
   ]
  },
  {
   "cell_type": "markdown",
   "metadata": {},
   "source": [
    "# submitting the project"
   ]
  },
  {
   "cell_type": "code",
   "execution_count": 64,
   "metadata": {},
   "outputs": [
    {
     "ename": "KeyError",
     "evalue": "'PassengerId'",
     "output_type": "error",
     "traceback": [
      "\u001b[1;31m---------------------------------------------------------------------------\u001b[0m",
      "\u001b[1;31mKeyError\u001b[0m                                  Traceback (most recent call last)",
      "\u001b[1;32m~\\anaconda3\\lib\\site-packages\\pandas\\core\\indexes\\base.py\u001b[0m in \u001b[0;36mget_loc\u001b[1;34m(self, key, method, tolerance)\u001b[0m\n\u001b[0;32m   3801\u001b[0m             \u001b[1;32mtry\u001b[0m\u001b[1;33m:\u001b[0m\u001b[1;33m\u001b[0m\u001b[1;33m\u001b[0m\u001b[0m\n\u001b[1;32m-> 3802\u001b[1;33m                 \u001b[1;32mreturn\u001b[0m \u001b[0mself\u001b[0m\u001b[1;33m.\u001b[0m\u001b[0m_engine\u001b[0m\u001b[1;33m.\u001b[0m\u001b[0mget_loc\u001b[0m\u001b[1;33m(\u001b[0m\u001b[0mcasted_key\u001b[0m\u001b[1;33m)\u001b[0m\u001b[1;33m\u001b[0m\u001b[1;33m\u001b[0m\u001b[0m\n\u001b[0m\u001b[0;32m   3803\u001b[0m             \u001b[1;32mexcept\u001b[0m \u001b[0mKeyError\u001b[0m \u001b[1;32mas\u001b[0m \u001b[0merr\u001b[0m\u001b[1;33m:\u001b[0m\u001b[1;33m\u001b[0m\u001b[1;33m\u001b[0m\u001b[0m\n",
      "\u001b[1;32m~\\anaconda3\\lib\\site-packages\\pandas\\_libs\\index.pyx\u001b[0m in \u001b[0;36mpandas._libs.index.IndexEngine.get_loc\u001b[1;34m()\u001b[0m\n",
      "\u001b[1;32m~\\anaconda3\\lib\\site-packages\\pandas\\_libs\\index.pyx\u001b[0m in \u001b[0;36mpandas._libs.index.IndexEngine.get_loc\u001b[1;34m()\u001b[0m\n",
      "\u001b[1;32mpandas\\_libs\\hashtable_class_helper.pxi\u001b[0m in \u001b[0;36mpandas._libs.hashtable.PyObjectHashTable.get_item\u001b[1;34m()\u001b[0m\n",
      "\u001b[1;32mpandas\\_libs\\hashtable_class_helper.pxi\u001b[0m in \u001b[0;36mpandas._libs.hashtable.PyObjectHashTable.get_item\u001b[1;34m()\u001b[0m\n",
      "\u001b[1;31mKeyError\u001b[0m: 'PassengerId'",
      "\nThe above exception was the direct cause of the following exception:\n",
      "\u001b[1;31mKeyError\u001b[0m                                  Traceback (most recent call last)",
      "\u001b[1;32m<ipython-input-64-2a69f8f64520>\u001b[0m in \u001b[0;36m<module>\u001b[1;34m\u001b[0m\n\u001b[0;32m      1\u001b[0m result_df = pd.DataFrame({\n\u001b[1;32m----> 2\u001b[1;33m     \u001b[1;34m'PassengerId'\u001b[0m\u001b[1;33m:\u001b[0m \u001b[0mtrain_df\u001b[0m\u001b[1;33m[\u001b[0m\u001b[1;34m'PassengerId'\u001b[0m\u001b[1;33m]\u001b[0m\u001b[1;33m,\u001b[0m\u001b[1;33m\u001b[0m\u001b[1;33m\u001b[0m\u001b[0m\n\u001b[0m\u001b[0;32m      3\u001b[0m     \u001b[1;34m'Survived'\u001b[0m\u001b[1;33m:\u001b[0m \u001b[0mpredictions\u001b[0m\u001b[1;33m\u001b[0m\u001b[1;33m\u001b[0m\u001b[0m\n\u001b[0;32m      4\u001b[0m })\n",
      "\u001b[1;32m~\\anaconda3\\lib\\site-packages\\pandas\\core\\frame.py\u001b[0m in \u001b[0;36m__getitem__\u001b[1;34m(self, key)\u001b[0m\n\u001b[0;32m   3805\u001b[0m             \u001b[1;32mif\u001b[0m \u001b[0mself\u001b[0m\u001b[1;33m.\u001b[0m\u001b[0mcolumns\u001b[0m\u001b[1;33m.\u001b[0m\u001b[0mnlevels\u001b[0m \u001b[1;33m>\u001b[0m \u001b[1;36m1\u001b[0m\u001b[1;33m:\u001b[0m\u001b[1;33m\u001b[0m\u001b[1;33m\u001b[0m\u001b[0m\n\u001b[0;32m   3806\u001b[0m                 \u001b[1;32mreturn\u001b[0m \u001b[0mself\u001b[0m\u001b[1;33m.\u001b[0m\u001b[0m_getitem_multilevel\u001b[0m\u001b[1;33m(\u001b[0m\u001b[0mkey\u001b[0m\u001b[1;33m)\u001b[0m\u001b[1;33m\u001b[0m\u001b[1;33m\u001b[0m\u001b[0m\n\u001b[1;32m-> 3807\u001b[1;33m             \u001b[0mindexer\u001b[0m \u001b[1;33m=\u001b[0m \u001b[0mself\u001b[0m\u001b[1;33m.\u001b[0m\u001b[0mcolumns\u001b[0m\u001b[1;33m.\u001b[0m\u001b[0mget_loc\u001b[0m\u001b[1;33m(\u001b[0m\u001b[0mkey\u001b[0m\u001b[1;33m)\u001b[0m\u001b[1;33m\u001b[0m\u001b[1;33m\u001b[0m\u001b[0m\n\u001b[0m\u001b[0;32m   3808\u001b[0m             \u001b[1;32mif\u001b[0m \u001b[0mis_integer\u001b[0m\u001b[1;33m(\u001b[0m\u001b[0mindexer\u001b[0m\u001b[1;33m)\u001b[0m\u001b[1;33m:\u001b[0m\u001b[1;33m\u001b[0m\u001b[1;33m\u001b[0m\u001b[0m\n\u001b[0;32m   3809\u001b[0m                 \u001b[0mindexer\u001b[0m \u001b[1;33m=\u001b[0m \u001b[1;33m[\u001b[0m\u001b[0mindexer\u001b[0m\u001b[1;33m]\u001b[0m\u001b[1;33m\u001b[0m\u001b[1;33m\u001b[0m\u001b[0m\n",
      "\u001b[1;32m~\\anaconda3\\lib\\site-packages\\pandas\\core\\indexes\\base.py\u001b[0m in \u001b[0;36mget_loc\u001b[1;34m(self, key, method, tolerance)\u001b[0m\n\u001b[0;32m   3802\u001b[0m                 \u001b[1;32mreturn\u001b[0m \u001b[0mself\u001b[0m\u001b[1;33m.\u001b[0m\u001b[0m_engine\u001b[0m\u001b[1;33m.\u001b[0m\u001b[0mget_loc\u001b[0m\u001b[1;33m(\u001b[0m\u001b[0mcasted_key\u001b[0m\u001b[1;33m)\u001b[0m\u001b[1;33m\u001b[0m\u001b[1;33m\u001b[0m\u001b[0m\n\u001b[0;32m   3803\u001b[0m             \u001b[1;32mexcept\u001b[0m \u001b[0mKeyError\u001b[0m \u001b[1;32mas\u001b[0m \u001b[0merr\u001b[0m\u001b[1;33m:\u001b[0m\u001b[1;33m\u001b[0m\u001b[1;33m\u001b[0m\u001b[0m\n\u001b[1;32m-> 3804\u001b[1;33m                 \u001b[1;32mraise\u001b[0m \u001b[0mKeyError\u001b[0m\u001b[1;33m(\u001b[0m\u001b[0mkey\u001b[0m\u001b[1;33m)\u001b[0m \u001b[1;32mfrom\u001b[0m \u001b[0merr\u001b[0m\u001b[1;33m\u001b[0m\u001b[1;33m\u001b[0m\u001b[0m\n\u001b[0m\u001b[0;32m   3805\u001b[0m             \u001b[1;32mexcept\u001b[0m \u001b[0mTypeError\u001b[0m\u001b[1;33m:\u001b[0m\u001b[1;33m\u001b[0m\u001b[1;33m\u001b[0m\u001b[0m\n\u001b[0;32m   3806\u001b[0m                 \u001b[1;31m# If we have a listlike key, _check_indexing_error will raise\u001b[0m\u001b[1;33m\u001b[0m\u001b[1;33m\u001b[0m\u001b[1;33m\u001b[0m\u001b[0m\n",
      "\u001b[1;31mKeyError\u001b[0m: 'PassengerId'"
     ]
    }
   ],
   "source": [
    "result_df = pd.DataFrame({\n",
    "    'PassengerId': train_df['PassengerId'], \n",
    "    'Survived': predictions\n",
    "})"
   ]
  }
 ],
 "metadata": {
  "kaggle": {
   "accelerator": "none",
   "dataSources": [
    {
     "databundleVersionId": 3220602,
     "sourceId": 34377,
     "sourceType": "competition"
    }
   ],
   "dockerImageVersionId": 30664,
   "isGpuEnabled": false,
   "isInternetEnabled": false,
   "language": "python",
   "sourceType": "notebook"
  },
  "kernelspec": {
   "display_name": "Python 3",
   "language": "python",
   "name": "python3"
  },
  "language_info": {
   "codemirror_mode": {
    "name": "ipython",
    "version": 3
   },
   "file_extension": ".py",
   "mimetype": "text/x-python",
   "name": "python",
   "nbconvert_exporter": "python",
   "pygments_lexer": "ipython3",
   "version": "3.8.5"
  }
 },
 "nbformat": 4,
 "nbformat_minor": 4
}
